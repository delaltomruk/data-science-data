{
  "nbformat": 4,
  "nbformat_minor": 0,
  "metadata": {
    "colab": {
      "name": "practice.ipynb",
      "provenance": [],
      "collapsed_sections": [],
      "mount_file_id": "1v0r9O_LtfeDwq7gW7AU91_6WQr9Twh0F",
      "authorship_tag": "ABX9TyNvUht6Tqn61fHC61cpMg7J",
      "include_colab_link": true
    },
    "kernelspec": {
      "name": "python3",
      "display_name": "Python 3"
    }
  },
  "cells": [
    {
      "cell_type": "markdown",
      "metadata": {
        "id": "view-in-github",
        "colab_type": "text"
      },
      "source": [
        "<a href=\"https://colab.research.google.com/github/delaltomruk/data-science-data/blob/main/tensorflow.ipynb\" target=\"_parent\"><img src=\"https://colab.research.google.com/assets/colab-badge.svg\" alt=\"Open In Colab\"/></a>"
      ]
    },
    {
      "cell_type": "markdown",
      "metadata": {
        "id": "OqYSxUH9B0ZY"
      },
      "source": [
        "The goal of the competition is to create a classifier capable of determining a dog's breed from a photo."
      ]
    },
    {
      "cell_type": "markdown",
      "metadata": {
        "id": "X9Y5n0uwERTl"
      },
      "source": [
        "## Preparing the Data"
      ]
    },
    {
      "cell_type": "code",
      "metadata": {
        "id": "KFh9jX_0BigG"
      },
      "source": [
        "# import all libraries\n",
        "import tensorflow as tf\n",
        "import tensorflow_hub as hub\n",
        "import pandas as pd \n",
        "import numpy as np\n",
        "import os\n",
        "from sklearn.model_selection import train_test_split\n",
        "from matplotlib.pyplot import imread\n",
        "import matplotlib.pyplot as plt"
      ],
      "execution_count": 3,
      "outputs": []
    },
    {
      "cell_type": "code",
      "metadata": {
        "colab": {
          "base_uri": "https://localhost:8080/",
          "height": 419
        },
        "id": "7RpHekjKBsIE",
        "outputId": "962ad30c-4e0e-4228-eee7-316e94932a2c"
      },
      "source": [
        "df = pd.read_csv(\"drive/MyDrive/Dog Vision/labels.csv\")\n",
        "df"
      ],
      "execution_count": 4,
      "outputs": [
        {
          "output_type": "execute_result",
          "data": {
            "text/html": [
              "<div>\n",
              "<style scoped>\n",
              "    .dataframe tbody tr th:only-of-type {\n",
              "        vertical-align: middle;\n",
              "    }\n",
              "\n",
              "    .dataframe tbody tr th {\n",
              "        vertical-align: top;\n",
              "    }\n",
              "\n",
              "    .dataframe thead th {\n",
              "        text-align: right;\n",
              "    }\n",
              "</style>\n",
              "<table border=\"1\" class=\"dataframe\">\n",
              "  <thead>\n",
              "    <tr style=\"text-align: right;\">\n",
              "      <th></th>\n",
              "      <th>id</th>\n",
              "      <th>breed</th>\n",
              "    </tr>\n",
              "  </thead>\n",
              "  <tbody>\n",
              "    <tr>\n",
              "      <th>0</th>\n",
              "      <td>000bec180eb18c7604dcecc8fe0dba07</td>\n",
              "      <td>boston_bull</td>\n",
              "    </tr>\n",
              "    <tr>\n",
              "      <th>1</th>\n",
              "      <td>001513dfcb2ffafc82cccf4d8bbaba97</td>\n",
              "      <td>dingo</td>\n",
              "    </tr>\n",
              "    <tr>\n",
              "      <th>2</th>\n",
              "      <td>001cdf01b096e06d78e9e5112d419397</td>\n",
              "      <td>pekinese</td>\n",
              "    </tr>\n",
              "    <tr>\n",
              "      <th>3</th>\n",
              "      <td>00214f311d5d2247d5dfe4fe24b2303d</td>\n",
              "      <td>bluetick</td>\n",
              "    </tr>\n",
              "    <tr>\n",
              "      <th>4</th>\n",
              "      <td>0021f9ceb3235effd7fcde7f7538ed62</td>\n",
              "      <td>golden_retriever</td>\n",
              "    </tr>\n",
              "    <tr>\n",
              "      <th>...</th>\n",
              "      <td>...</td>\n",
              "      <td>...</td>\n",
              "    </tr>\n",
              "    <tr>\n",
              "      <th>10217</th>\n",
              "      <td>ffd25009d635cfd16e793503ac5edef0</td>\n",
              "      <td>borzoi</td>\n",
              "    </tr>\n",
              "    <tr>\n",
              "      <th>10218</th>\n",
              "      <td>ffd3f636f7f379c51ba3648a9ff8254f</td>\n",
              "      <td>dandie_dinmont</td>\n",
              "    </tr>\n",
              "    <tr>\n",
              "      <th>10219</th>\n",
              "      <td>ffe2ca6c940cddfee68fa3cc6c63213f</td>\n",
              "      <td>airedale</td>\n",
              "    </tr>\n",
              "    <tr>\n",
              "      <th>10220</th>\n",
              "      <td>ffe5f6d8e2bff356e9482a80a6e29aac</td>\n",
              "      <td>miniature_pinscher</td>\n",
              "    </tr>\n",
              "    <tr>\n",
              "      <th>10221</th>\n",
              "      <td>fff43b07992508bc822f33d8ffd902ae</td>\n",
              "      <td>chesapeake_bay_retriever</td>\n",
              "    </tr>\n",
              "  </tbody>\n",
              "</table>\n",
              "<p>10222 rows × 2 columns</p>\n",
              "</div>"
            ],
            "text/plain": [
              "                                     id                     breed\n",
              "0      000bec180eb18c7604dcecc8fe0dba07               boston_bull\n",
              "1      001513dfcb2ffafc82cccf4d8bbaba97                     dingo\n",
              "2      001cdf01b096e06d78e9e5112d419397                  pekinese\n",
              "3      00214f311d5d2247d5dfe4fe24b2303d                  bluetick\n",
              "4      0021f9ceb3235effd7fcde7f7538ed62          golden_retriever\n",
              "...                                 ...                       ...\n",
              "10217  ffd25009d635cfd16e793503ac5edef0                    borzoi\n",
              "10218  ffd3f636f7f379c51ba3648a9ff8254f            dandie_dinmont\n",
              "10219  ffe2ca6c940cddfee68fa3cc6c63213f                  airedale\n",
              "10220  ffe5f6d8e2bff356e9482a80a6e29aac        miniature_pinscher\n",
              "10221  fff43b07992508bc822f33d8ffd902ae  chesapeake_bay_retriever\n",
              "\n",
              "[10222 rows x 2 columns]"
            ]
          },
          "metadata": {
            "tags": []
          },
          "execution_count": 4
        }
      ]
    },
    {
      "cell_type": "code",
      "metadata": {
        "colab": {
          "base_uri": "https://localhost:8080/"
        },
        "id": "oTkpMpa6CFhR",
        "outputId": "5bedd373-3b6e-427c-f284-ba616c209611"
      },
      "source": [
        "#create the path for each image\n",
        "path_names = [\"drive/MyDrive/Dog Vision/train/\" + image_name + \".jpg\" for image_name in df[\"id\"]]\n",
        "path_names[:10]"
      ],
      "execution_count": 5,
      "outputs": [
        {
          "output_type": "execute_result",
          "data": {
            "text/plain": [
              "['drive/MyDrive/Dog Vision/train/000bec180eb18c7604dcecc8fe0dba07.jpg',\n",
              " 'drive/MyDrive/Dog Vision/train/001513dfcb2ffafc82cccf4d8bbaba97.jpg',\n",
              " 'drive/MyDrive/Dog Vision/train/001cdf01b096e06d78e9e5112d419397.jpg',\n",
              " 'drive/MyDrive/Dog Vision/train/00214f311d5d2247d5dfe4fe24b2303d.jpg',\n",
              " 'drive/MyDrive/Dog Vision/train/0021f9ceb3235effd7fcde7f7538ed62.jpg',\n",
              " 'drive/MyDrive/Dog Vision/train/002211c81b498ef88e1b40b9abf84e1d.jpg',\n",
              " 'drive/MyDrive/Dog Vision/train/00290d3e1fdd27226ba27a8ce248ce85.jpg',\n",
              " 'drive/MyDrive/Dog Vision/train/002a283a315af96eaea0e28e7163b21b.jpg',\n",
              " 'drive/MyDrive/Dog Vision/train/003df8b8a8b05244b1d920bb6cf451f9.jpg',\n",
              " 'drive/MyDrive/Dog Vision/train/0042188c895a2f14ef64a918ed9c7b64.jpg']"
            ]
          },
          "metadata": {
            "tags": []
          },
          "execution_count": 5
        }
      ]
    },
    {
      "cell_type": "code",
      "metadata": {
        "colab": {
          "base_uri": "https://localhost:8080/"
        },
        "id": "i55SBiBqCz4r",
        "outputId": "2699a471-09fb-40c5-9a26-241c56528920"
      },
      "source": [
        "#change the breeds column to a numpy array, we need numerical columns!\n",
        "breeds = df[\"breed\"].to_numpy()\n",
        "breeds[:5]"
      ],
      "execution_count": 6,
      "outputs": [
        {
          "output_type": "execute_result",
          "data": {
            "text/plain": [
              "array(['boston_bull', 'dingo', 'pekinese', 'bluetick', 'golden_retriever'],\n",
              "      dtype=object)"
            ]
          },
          "metadata": {
            "tags": []
          },
          "execution_count": 6
        }
      ]
    },
    {
      "cell_type": "code",
      "metadata": {
        "colab": {
          "base_uri": "https://localhost:8080/"
        },
        "id": "IKL18RcdDdRU",
        "outputId": "a5928a12-4776-4a98-f66e-95cf50cb48e1"
      },
      "source": [
        "unique_breeds = np.unique(breeds)\n",
        "unique_breeds[:5]"
      ],
      "execution_count": 7,
      "outputs": [
        {
          "output_type": "execute_result",
          "data": {
            "text/plain": [
              "array(['affenpinscher', 'afghan_hound', 'african_hunting_dog', 'airedale',\n",
              "       'american_staffordshire_terrier'], dtype=object)"
            ]
          },
          "metadata": {
            "tags": []
          },
          "execution_count": 7
        }
      ]
    },
    {
      "cell_type": "code",
      "metadata": {
        "colab": {
          "base_uri": "https://localhost:8080/"
        },
        "id": "EzGh8cDTDthc",
        "outputId": "0100b922-1c1c-4d1b-a1b6-cb9caeef58b8"
      },
      "source": [
        "# create a boolean array to keep track of breeds\n",
        "boolean_breed = [unique_breeds == breed for breed in breeds]\n",
        "boolean_breed[:2]"
      ],
      "execution_count": 8,
      "outputs": [
        {
          "output_type": "execute_result",
          "data": {
            "text/plain": [
              "[array([False, False, False, False, False, False, False, False, False,\n",
              "        False, False, False, False, False, False, False, False, False,\n",
              "        False,  True, False, False, False, False, False, False, False,\n",
              "        False, False, False, False, False, False, False, False, False,\n",
              "        False, False, False, False, False, False, False, False, False,\n",
              "        False, False, False, False, False, False, False, False, False,\n",
              "        False, False, False, False, False, False, False, False, False,\n",
              "        False, False, False, False, False, False, False, False, False,\n",
              "        False, False, False, False, False, False, False, False, False,\n",
              "        False, False, False, False, False, False, False, False, False,\n",
              "        False, False, False, False, False, False, False, False, False,\n",
              "        False, False, False, False, False, False, False, False, False,\n",
              "        False, False, False, False, False, False, False, False, False,\n",
              "        False, False, False]),\n",
              " array([False, False, False, False, False, False, False, False, False,\n",
              "        False, False, False, False, False, False, False, False, False,\n",
              "        False, False, False, False, False, False, False, False, False,\n",
              "        False, False, False, False, False, False, False, False, False,\n",
              "        False,  True, False, False, False, False, False, False, False,\n",
              "        False, False, False, False, False, False, False, False, False,\n",
              "        False, False, False, False, False, False, False, False, False,\n",
              "        False, False, False, False, False, False, False, False, False,\n",
              "        False, False, False, False, False, False, False, False, False,\n",
              "        False, False, False, False, False, False, False, False, False,\n",
              "        False, False, False, False, False, False, False, False, False,\n",
              "        False, False, False, False, False, False, False, False, False,\n",
              "        False, False, False, False, False, False, False, False, False,\n",
              "        False, False, False])]"
            ]
          },
          "metadata": {
            "tags": []
          },
          "execution_count": 8
        }
      ]
    },
    {
      "cell_type": "markdown",
      "metadata": {
        "id": "P_Exi_G_ELVC"
      },
      "source": [
        "Create the validation data - which was not given with Kaggle dataset."
      ]
    },
    {
      "cell_type": "code",
      "metadata": {
        "id": "3vxMzMApEDM4"
      },
      "source": [
        "X = path_names\n",
        "y = boolean_breed"
      ],
      "execution_count": 9,
      "outputs": []
    },
    {
      "cell_type": "code",
      "metadata": {
        "id": "FeiBNI5mEY54"
      },
      "source": [
        "NUM_IMAGES = 1000\n",
        "\n",
        "#split the data to validation set\n",
        "\n",
        "X_train, X_val, y_train, y_val = train_test_split(X[:NUM_IMAGES],\n",
        "                                                  y[:NUM_IMAGES],\n",
        "                                                  test_size = 0.2,\n",
        "                                                  random_state = 42)"
      ],
      "execution_count": 10,
      "outputs": []
    },
    {
      "cell_type": "code",
      "metadata": {
        "colab": {
          "base_uri": "https://localhost:8080/"
        },
        "id": "H_uXo-XBEwai",
        "outputId": "37847231-dc6e-4da2-bf9c-e22d5f399429"
      },
      "source": [
        "len(X_train), len(y_train), len(X_val), len(y_val)"
      ],
      "execution_count": 11,
      "outputs": [
        {
          "output_type": "execute_result",
          "data": {
            "text/plain": [
              "(800, 800, 200, 200)"
            ]
          },
          "metadata": {
            "tags": []
          },
          "execution_count": 11
        }
      ]
    },
    {
      "cell_type": "markdown",
      "metadata": {
        "id": "udSa5seNFCJL"
      },
      "source": [
        "## Turn the Images to Tensors"
      ]
    },
    {
      "cell_type": "code",
      "metadata": {
        "cellView": "code",
        "id": "ePdQbWd8ExuB"
      },
      "source": [
        "# function for preprocessing the images\n",
        "\n",
        "IMG_SIZE = 224 # why 224? \n",
        "               # see the link: https://datascience.stackexchange.com/questions/16601/reason-for-square-images-in-deep-learning\n",
        "\n",
        "def preprocess_image(image_path, img_size = IMG_SIZE):\n",
        "  \"\"\"\n",
        "  Takes an image file path and turns it into a Tensor. \n",
        "  \"\"\"\n",
        "\n",
        "  # read the image file\n",
        "  image = tf.io.read_file(image_path)\n",
        "  # turn the image to tensors for different color channels (red, blue, green)\n",
        "  image = tf.image.decode_jpeg(image, channels = 3) # 3 outputs and RBG image\n",
        "  # convert the color channel values to a scale 0-1\n",
        "  image = tf.image.convert_image_dtype(image, tf.float32)\n",
        "  # resize the image\n",
        "  image = tf.image.resize(image,size = [img_size, img_size])\n",
        "\n",
        "  return image\n",
        "\n"
      ],
      "execution_count": 12,
      "outputs": []
    },
    {
      "cell_type": "markdown",
      "metadata": {
        "id": "gAg3MDKCHgCJ"
      },
      "source": [
        "## Turning Data Into Batches"
      ]
    },
    {
      "cell_type": "markdown",
      "metadata": {
        "id": "MeKR2drFHkhF"
      },
      "source": [
        "Default batch size is 32!\n",
        "See: https://stats.stackexchange.com/questions/164876/what-is-the-trade-off-between-batch-size-and-number-of-iterations-to-train-a-neu\n",
        "\n",
        "All 1000+ images might not fit into memory, so doing 32 (batch size) images at a time is faster. you can adjust the batch size if needed."
      ]
    },
    {
      "cell_type": "code",
      "metadata": {
        "id": "CM0TUpkFFj-J"
      },
      "source": [
        "# function to return a tuple '(image, breed)'\n",
        "\n",
        "def get_tuple(image_path, breed):\n",
        "  \"\"\"\n",
        "  Takes an image file path name and the associated label,\n",
        "  preprocesses the image and returns a tuple of (image, breed).\n",
        "  \"\"\"\n",
        "  image = preprocess_image(image_path)\n",
        "  return image, breed\n"
      ],
      "execution_count": 13,
      "outputs": []
    },
    {
      "cell_type": "code",
      "metadata": {
        "id": "XIZCPZjrIQ8a"
      },
      "source": [
        "# Define the batch size, 32 is a good default\n",
        "BATCH_SIZE = 32\n",
        "\n",
        "# Create a function to turn data into batches\n",
        "def create_data_batches(X, y=None, batch_size=BATCH_SIZE, valid_data=False, test_data=False):\n",
        "  \"\"\"\n",
        "  Creates batches of data out of image (x) and label (y) pairs.\n",
        "  Shuffles the data if it's training data but doesn't shuffle it if it's validation data.\n",
        "  Also accepts test data as input (no labels).\n",
        "  \"\"\"\n",
        "  # If the data is a test dataset, we probably don't have labels\n",
        "  if test_data:\n",
        "    data = tf.data.Dataset.from_tensor_slices((tf.constant(X))) \n",
        "    batch = data.map(preprocess_image).batch(batch_size)\n",
        "    return batch\n",
        "  \n",
        "  # If the data if a valid dataset, we don't need to shuffle it\n",
        "  elif valid_data:\n",
        "    data = tf.data.Dataset.from_tensor_slices((tf.constant(X), \n",
        "                                               tf.constant(y)))\n",
        "    batch = data.map(get_tuple).batch(batch_size)\n",
        "    return batch\n",
        "\n",
        "  else:\n",
        "    # it is the training set, we should shuffle for randomness\n",
        "    data = tf.data.Dataset.from_tensor_slices((tf.constant(X), \n",
        "                                              tf.constant(y))) \n",
        "    \n",
        "   \n",
        "    data = data.shuffle(buffer_size=len(X)) # buffer size decides on the randomness e.g. buffer_size = 1 is no shuffle at all\n",
        "\n",
        "    # Create tuples - this  turns the image path into a preprocessed image\n",
        "    data = data.map(get_tuple)\n",
        "\n",
        "    batch = data.batch(batch_size)\n",
        "    return batch"
      ],
      "execution_count": 14,
      "outputs": []
    },
    {
      "cell_type": "code",
      "metadata": {
        "id": "Fc1XQbZLNDAI"
      },
      "source": [
        "train_data = create_data_batches(X_train, y_train)\n",
        "val_data = create_data_batches(X_val, y_val, valid_data=True)"
      ],
      "execution_count": 15,
      "outputs": []
    },
    {
      "cell_type": "markdown",
      "metadata": {
        "id": "knKyVF68OCJ5"
      },
      "source": [
        "## Visualizing the Data"
      ]
    },
    {
      "cell_type": "code",
      "metadata": {
        "id": "K0lnYnWzNFNY"
      },
      "source": [
        "def show_25_images(images, labels):\n",
        "  \"\"\"\n",
        "  shows 25 images using batches\n",
        "  \"\"\"\n",
        "  # set the figure up\n",
        "  plt.figure(figsize= (10,10))\n",
        "\n",
        "  for i in range(25):\n",
        "    ax = plt.subplot(5, 5, i+1)\n",
        "    plt.imshow(images[i])\n",
        "    plt.title(unique_breeds[(labels[i].arg_max())]) # bunu anlamadim\n",
        "    \n",
        "    \n",
        "\n"
      ],
      "execution_count": 23,
      "outputs": []
    },
    {
      "cell_type": "code",
      "metadata": {
        "colab": {
          "base_uri": "https://localhost:8080/",
          "height": 445
        },
        "id": "CzNShQkyGO8v",
        "outputId": "4b484b3f-d922-4ebc-dae5-d41b06b1b452"
      },
      "source": [
        "train_images, train_labels = next(train_data.as_numpy_iterator())\n",
        "show_25_images(train_images, train_labels) \n",
        "# this will change everytime we run the code, because this is the training set and we shuffled the training set"
      ],
      "execution_count": 24,
      "outputs": [
        {
          "output_type": "error",
          "ename": "AttributeError",
          "evalue": "ignored",
          "traceback": [
            "\u001b[0;31m---------------------------------------------------------------------------\u001b[0m",
            "\u001b[0;31mAttributeError\u001b[0m                            Traceback (most recent call last)",
            "\u001b[0;32m<ipython-input-24-70a7b4efd793>\u001b[0m in \u001b[0;36m<module>\u001b[0;34m()\u001b[0m\n\u001b[1;32m      1\u001b[0m \u001b[0mtrain_images\u001b[0m\u001b[0;34m,\u001b[0m \u001b[0mtrain_labels\u001b[0m \u001b[0;34m=\u001b[0m \u001b[0mnext\u001b[0m\u001b[0;34m(\u001b[0m\u001b[0mtrain_data\u001b[0m\u001b[0;34m.\u001b[0m\u001b[0mas_numpy_iterator\u001b[0m\u001b[0;34m(\u001b[0m\u001b[0;34m)\u001b[0m\u001b[0;34m)\u001b[0m\u001b[0;34m\u001b[0m\u001b[0;34m\u001b[0m\u001b[0m\n\u001b[0;32m----> 2\u001b[0;31m \u001b[0mshow_25_images\u001b[0m\u001b[0;34m(\u001b[0m\u001b[0mtrain_images\u001b[0m\u001b[0;34m,\u001b[0m \u001b[0mtrain_labels\u001b[0m\u001b[0;34m)\u001b[0m\u001b[0;34m\u001b[0m\u001b[0;34m\u001b[0m\u001b[0m\n\u001b[0m\u001b[1;32m      3\u001b[0m \u001b[0;31m# this will change everytime we run the code, because this is the training set and we shuffled the training set\u001b[0m\u001b[0;34m\u001b[0m\u001b[0;34m\u001b[0m\u001b[0;34m\u001b[0m\u001b[0m\n",
            "\u001b[0;32m<ipython-input-23-d477f7b76f50>\u001b[0m in \u001b[0;36mshow_25_images\u001b[0;34m(images, labels)\u001b[0m\n\u001b[1;32m      9\u001b[0m     \u001b[0max\u001b[0m \u001b[0;34m=\u001b[0m \u001b[0mplt\u001b[0m\u001b[0;34m.\u001b[0m\u001b[0msubplot\u001b[0m\u001b[0;34m(\u001b[0m\u001b[0;36m5\u001b[0m\u001b[0;34m,\u001b[0m \u001b[0;36m5\u001b[0m\u001b[0;34m,\u001b[0m \u001b[0mi\u001b[0m\u001b[0;34m+\u001b[0m\u001b[0;36m1\u001b[0m\u001b[0;34m)\u001b[0m\u001b[0;34m\u001b[0m\u001b[0;34m\u001b[0m\u001b[0m\n\u001b[1;32m     10\u001b[0m     \u001b[0mplt\u001b[0m\u001b[0;34m.\u001b[0m\u001b[0mimshow\u001b[0m\u001b[0;34m(\u001b[0m\u001b[0mimages\u001b[0m\u001b[0;34m[\u001b[0m\u001b[0mi\u001b[0m\u001b[0;34m]\u001b[0m\u001b[0;34m)\u001b[0m\u001b[0;34m\u001b[0m\u001b[0;34m\u001b[0m\u001b[0m\n\u001b[0;32m---> 11\u001b[0;31m     \u001b[0mplt\u001b[0m\u001b[0;34m.\u001b[0m\u001b[0mtitle\u001b[0m\u001b[0;34m(\u001b[0m\u001b[0munique_breeds\u001b[0m\u001b[0;34m[\u001b[0m\u001b[0;34m(\u001b[0m\u001b[0mlabels\u001b[0m\u001b[0;34m[\u001b[0m\u001b[0mi\u001b[0m\u001b[0;34m]\u001b[0m\u001b[0;34m.\u001b[0m\u001b[0marg_max\u001b[0m\u001b[0;34m(\u001b[0m\u001b[0;34m)\u001b[0m\u001b[0;34m)\u001b[0m\u001b[0;34m]\u001b[0m\u001b[0;34m)\u001b[0m \u001b[0;31m# bunu anlamadim\u001b[0m\u001b[0;34m\u001b[0m\u001b[0;34m\u001b[0m\u001b[0m\n\u001b[0m\u001b[1;32m     12\u001b[0m \u001b[0;34m\u001b[0m\u001b[0m\n\u001b[1;32m     13\u001b[0m \u001b[0;34m\u001b[0m\u001b[0m\n",
            "\u001b[0;31mAttributeError\u001b[0m: 'numpy.ndarray' object has no attribute 'arg_max'"
          ]
        },
        {
          "output_type": "display_data",
          "data": {
            "image/png": "[encoded data removed]",
            "text/plain": [
              "<Figure size 720x720 with 1 Axes>"
            ]
          },
          "metadata": {
            "tags": [],
            "needs_background": "light"
          }
        }
      ]
    },
    {
      "cell_type": "code",
      "metadata": {
        "id": "tGajsAzfGWxU"
      },
      "source": [
        "val_images, val_labels = next(val_data.as_numpy_iterator())\n",
        "show_25_images(val_images, val_labels) #this will stay the same everytime it runs, because we are not shuffling the validation set"
      ],
      "execution_count": null,
      "outputs": []
    },
    {
      "cell_type": "markdown",
      "metadata": {
        "id": "IWcXcNqQGaRr"
      },
      "source": [
        "# Let's build the model!"
      ]
    },
    {
      "cell_type": "code",
      "metadata": {
        "id": "sYftI4UAGhQd"
      },
      "source": [
        "INPUT_SHAPE = [None, IMG_SIZE, IMG_SIZE, 3] # batch, height, width, color channels\n",
        "OUTPUT_SHAPE = len(unique_breeds) # output an array of size len\n",
        "MODEL_URL = \"https://tfhub.dev/google/imagenet/mobilenet_v2_130_224/classification/4\""
      ],
      "execution_count": null,
      "outputs": []
    },
    {
      "cell_type": "code",
      "metadata": {
        "id": "t0vK3coVGiC0"
      },
      "source": [
        ""
      ],
      "execution_count": null,
      "outputs": []
    }
  ]
}